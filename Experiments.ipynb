{
 "cells": [
  {
   "cell_type": "code",
   "execution_count": 1,
   "id": "6eca30fb",
   "metadata": {},
   "outputs": [],
   "source": [
    "from gensim.models import Word2Vec\n",
    "import responsibly\n",
    "import pandas as pd\n",
    "import matplotlib.pyplot as plt\n",
    "import matplotlib.patches as mpatches\n",
    "import numpy as np\n",
    "from IPython.display import display\n",
    "from itertools import combinations, product\n",
    "import random"
   ]
  },
  {
   "cell_type": "code",
   "execution_count": 2,
   "id": "4b9e0261",
   "metadata": {},
   "outputs": [],
   "source": [
    "plt.rcParams[\"figure.figsize\"] = (12,4)\n",
    "\n",
    "\n",
    "red_patch = mpatches.Patch(color='red', label='Aggregated')\n",
    "blue_patch = mpatches.Patch(color='blue', label='Single')"
   ]
  },
  {
   "cell_type": "code",
   "execution_count": 3,
   "id": "d7f8e3b6",
   "metadata": {},
   "outputs": [],
   "source": [
    "# Load the gensim model\n",
    "model = Word2Vec.load(\"word2vec.gnsm\")"
   ]
  },
  {
   "cell_type": "markdown",
   "id": "36720d49",
   "metadata": {},
   "source": [
    "# Utils"
   ]
  },
  {
   "cell_type": "code",
   "execution_count": 4,
   "id": "fd5648cc",
   "metadata": {},
   "outputs": [],
   "source": [
    "def make_experiment(attribute_male, attribute_female, target_1, target_2, plot_name=None):\n",
    "    try:\n",
    "        res = responsibly.we.weat.calc_single_weat(model.wv, target_1, target_2, attribute_male, attribute_female,\n",
    "                                         with_pvalue=True)\n",
    "        return pd.DataFrame([res])\n",
    "    except AssertionError:\n",
    "        difference = abs(len(target_1['words']) - len(target_2['words']))\n",
    "\n",
    "        class_name = target_1['name']   \n",
    "        bigger_target = target_1['words']\n",
    "        is_target1_bigger = True\n",
    "        \n",
    "        if len(target_1['words']) < len(target_2['words']):\n",
    "            bigger_target = target_2['words']\n",
    "            is_target1_bigger = False\n",
    "            class_name = target_2['name']   \n",
    "            \n",
    "        results = []\n",
    "        \n",
    "        for words in combinations(bigger_target, difference):\n",
    "            reduced_bigger = [w for w in bigger_target if w not in words]\n",
    "            \n",
    "            if is_target1_bigger:\n",
    "                results.append(make_experiment(attribute_male, attribute_female, {'name': target_1['name'], 'words': reduced_bigger}, target_2))\n",
    "            else:\n",
    "                results.append(make_experiment(attribute_male, attribute_female, target_1, {'name': target_2['name'], 'words': reduced_bigger}))                \n",
    "        \n",
    "        results = pd.concat(results)\n",
    "        \n",
    "        results.plot(kind='scatter', x='p', y='d')\n",
    "        plt.title(f'Removing all combinations of size {difference} words from {class_name}')\n",
    "        \n",
    "        if plot_name:\n",
    "            plt.savefig(plot_name, format='eps')\n",
    "        \n",
    "        plt.show()\n",
    "        \n",
    "        return pd.concat([pd.DataFrame(results['d'].describe()).T, pd.DataFrame(results['p'].describe()).T]).T"
   ]
  },
  {
   "cell_type": "code",
   "execution_count": 5,
   "id": "176b64fb",
   "metadata": {},
   "outputs": [],
   "source": [
    "def evaluate_experiment(results: pd.DataFrame, attribute_male, attribute_female, target_1, target_2):\n",
    "    try:\n",
    "        r = results.loc['mean']\n",
    "    except KeyError:\n",
    "        r = results.iloc[0, :]\n",
    "        \n",
    "    output = 'The result is significant. '\n",
    "    if r['p'] > 0.05:\n",
    "        output = 'The result is NOT significant. '\n",
    "        \n",
    "    output += f'alpha=0.05 ({r[\"p\"]:.3f})\\n'\n",
    "        \n",
    "    output += 'The suggested association is: '\n",
    "    if r['d'] > 0:\n",
    "        output += f'{target_1[\"name\"]}-{attribute_male[\"name\"]} and {target_2[\"name\"]}-{attribute_female[\"name\"]}'\n",
    "    else:\n",
    "        output += f'{target_2[\"name\"]}-{attribute_male[\"name\"]} and {target_1[\"name\"]}-{attribute_female[\"name\"]}'\n",
    "        \n",
    "    output += f'({r[\"d\"]:.3f})\\n'\n",
    "    print(output)"
   ]
  },
  {
   "cell_type": "code",
   "execution_count": 6,
   "id": "bd5d3199",
   "metadata": {},
   "outputs": [],
   "source": [
    "def experiment_word_frequency(*classes):\n",
    "    results = []\n",
    "    total_occ = sum([model.wv.vocab[word].count for word in model.wv.vocab])\n",
    "    \n",
    "    for c in classes:\n",
    "        count = sum([model.wv.vocab[word].count for word in c['words']])\n",
    "        c['count'] = count\n",
    "        results.append({\n",
    "            'class': c['name'],\n",
    "            'count': count\n",
    "        })\n",
    "        \n",
    "    target_classes = [c for c in classes if c['name'] not in ['male', 'female']]\n",
    "    \n",
    "    bigger_c = target_classes[0] if target_classes[0]['count'] > target_classes[1]['count'] else target_classes[1]\n",
    "    smaller_c = target_classes[0] if target_classes[0]['count'] < target_classes[1]['count'] else target_classes[1]\n",
    "        \n",
    "    percentage_increase = bigger_c['count'] / smaller_c['count'] - 1\n",
    "    \n",
    "    print(f\"{bigger_c['name']} words are {percentage_increase*100:.3f}% more frequent than {smaller_c['name']} words\")\n",
    "\n",
    "    target_classes = [c for c in classes if c['name'] in ['male', 'female']]\n",
    "    \n",
    "    bigger_c = target_classes[0] if target_classes[0]['count'] > target_classes[1]['count'] else target_classes[1]\n",
    "    smaller_c = target_classes[0] if target_classes[0]['count'] < target_classes[1]['count'] else target_classes[1]\n",
    "        \n",
    "    percentage_increase = bigger_c['count'] / smaller_c['count'] - 1\n",
    "    \n",
    "    print(f\"{bigger_c['name']} words are {percentage_increase*100:.3f}% more frequent than {smaller_c['name']} words\")\n",
    "     \n",
    "    return pd.DataFrame(results)"
   ]
  },
  {
   "cell_type": "code",
   "execution_count": 7,
   "id": "b204d413",
   "metadata": {},
   "outputs": [],
   "source": [
    "def male_term_percentage(experiment):\n",
    "    target_classes = [k.split('_')[0] for k in experiment.keys() if 'no_male' in k]\n",
    "    \n",
    "    return pd.DataFrame([\n",
    "        {\n",
    "            'class': experiment[k]['name'],\n",
    "            'male terms': f\"{1 - len(experiment[f'{k}_no_male']['words'])/len(experiment[k]['words']):.3f}%\"\n",
    "        }\n",
    "        for k in target_classes\n",
    "    ])"
   ]
  },
  {
   "cell_type": "markdown",
   "id": "30d28164",
   "metadata": {},
   "source": [
    "# Classes"
   ]
  },
  {
   "cell_type": "code",
   "execution_count": 8,
   "id": "a85712e7",
   "metadata": {},
   "outputs": [],
   "source": [
    "weat7 = {\n",
    "    'male': {\n",
    "        'name': 'male',\n",
    "        'words':[\"maschio\", \"uomo\", \"ragazzo\", \"fratello\", \"lui\", \"suo\", \"lo\", \"figlio\"]\n",
    "    },\n",
    "    'female': {\n",
    "        'name': 'female',\n",
    "        'words': [\"femmina\", \"donna\", \"ragazza\", \"sorella\", \"lei\", \"sua\", \"la\", \"figlia\"]\n",
    "    },\n",
    "    'math': {\n",
    "        'name': 'math',\n",
    "        'words': [\"matematica\", \"algebra\", \"geometria\", \"calcolo\", \"equazioni\", \"computazione\", \"numeri\", \"addizione\"]  \n",
    "    },\n",
    "    'art': {\n",
    "        'name': 'art',\n",
    "        'words': [\"poesia\", \"arte\", \"danza\", \"letteratura\", \"romanzo\", \"sinfonia\", \"dramma\", \"scultura\"]\n",
    "    },\n",
    "    'math_no_male': {\n",
    "        'name': 'math_no_male',\n",
    "        'words': [\"matematica\", \"algebra\", \"geometria\", \"equazioni\", \"computazione\", \"addizione\"]\n",
    "    },\n",
    "    'art_no_male': {\n",
    "        'name': 'art_no_male',\n",
    "        'words': [\"poesia\", \"arte\", \"danza\", \"letteratura\", \"sinfonia\", \"dramma\", \"scultura\"]\n",
    "    }\n",
    "}\n",
    "\n",
    "weat8 = {\n",
    "    'male': {\n",
    "        'name': 'male',\n",
    "        'words': [\"fratello\", \"padre\", \"zio\", \"nonno\", \"figlio\", \"lui\", \"suo\", \"lo\"]\n",
    "    },\n",
    "    'female': {\n",
    "        'name': 'female',\n",
    "        'words': [\"sorella\", \"madre\", \"zia\", \"nonna\", \"figlia\", \"lei\", \"sua\", \"la\"]\n",
    "    },\n",
    "    'science': {\n",
    "        'name': 'science',\n",
    "        # removed nasa because not in vocabulary\n",
    "        'words': [\"scienza\", \"tecnologia\", \"fisica\", \"chimica\", \"einstein\", \"esperimento\", \"astronomia\"]\n",
    "    },\n",
    "    'art': {\n",
    "        'name': 'art',\n",
    "        'words': [\"poesia\", \"arte\", \"shakespeare\", \"danza\", \"letteratura\", \"romanzo\", \"sinfonia\", \"dramma\"]\n",
    "    },\n",
    "    'science_no_male': {\n",
    "        'name': 'science_no_male',\n",
    "        'words': [\"scienza\", \"tecnologia\", \"fisica\", \"chimica\", \"astronomia\"]\n",
    "    },\n",
    "    'art_no_male': {\n",
    "        'name': 'art_no_male',\n",
    "        'words': [\"poesia\", \"arte\", \"danza\", \"letteratura\", \"sinfonia\", \"dramma\"]\n",
    "    }\n",
    "}\n",
    "\n",
    "weat8_implicit = {\n",
    "    'male': {\n",
    "        'name': 'male',\n",
    "        'words': [\"uomo\", \"padre\", \"maschio\", \"nonno\", \"marito\", \"zio\"]\n",
    "    },\n",
    "    'female': {\n",
    "        'name': 'female',\n",
    "        'words': [\"donna\", \"madre\", \"femmina\", \"nonna\", \"moglie\", \"zia\"]\n",
    "    },\n",
    "    'science': {\n",
    "        'name': 'science',\n",
    "        'words': [\"biologia\", \"fisica\", \"chimica\", \"matematica\", \"geologia\", \"astronomia\", \"ingegneria\"]\n",
    "    },\n",
    "    'art': {\n",
    "        'name': 'art',\n",
    "        'words': [\"filosofia\", \"umanesimo\", \"arte\", \"letteratura\", \"italiano\", \"musica\", \"storia\"]\n",
    "    },\n",
    "    'science_no_male': {\n",
    "        'name': 'science_no_male',\n",
    "        'words': [\"biologia\", \"fisica\", \"chimica\", \"matematica\", \"geologia\", \"astronomia\", \"ingegneria\"]\n",
    "    },\n",
    "    'art_no_male': {\n",
    "        'name': 'art_no_male',\n",
    "        'words': [\"filosofia\", \"arte\", \"letteratura\", \"italiano\", \"musica\", \"storia\"]\n",
    "    }\n",
    "}"
   ]
  },
  {
   "cell_type": "markdown",
   "id": "91c0b444",
   "metadata": {},
   "source": [
    "# WEAT 7"
   ]
  },
  {
   "cell_type": "code",
   "execution_count": 9,
   "id": "590388a8",
   "metadata": {
    "scrolled": true
   },
   "outputs": [
    {
     "data": {
      "text/html": [
       "<div>\n",
       "<style scoped>\n",
       "    .dataframe tbody tr th:only-of-type {\n",
       "        vertical-align: middle;\n",
       "    }\n",
       "\n",
       "    .dataframe tbody tr th {\n",
       "        vertical-align: top;\n",
       "    }\n",
       "\n",
       "    .dataframe thead th {\n",
       "        text-align: right;\n",
       "    }\n",
       "</style>\n",
       "<table border=\"1\" class=\"dataframe\">\n",
       "  <thead>\n",
       "    <tr style=\"text-align: right;\">\n",
       "      <th></th>\n",
       "      <th>Target words</th>\n",
       "      <th>Attrib. words</th>\n",
       "      <th>s</th>\n",
       "      <th>d</th>\n",
       "      <th>p</th>\n",
       "      <th>Nt</th>\n",
       "      <th>Na</th>\n",
       "    </tr>\n",
       "  </thead>\n",
       "  <tbody>\n",
       "    <tr>\n",
       "      <th>0</th>\n",
       "      <td>math vs. art</td>\n",
       "      <td>male vs. female</td>\n",
       "      <td>0.203558</td>\n",
       "      <td>0.335644</td>\n",
       "      <td>0.264724</td>\n",
       "      <td>8x2</td>\n",
       "      <td>8x2</td>\n",
       "    </tr>\n",
       "  </tbody>\n",
       "</table>\n",
       "</div>"
      ],
      "text/plain": [
       "   Target words    Attrib. words         s         d         p   Nt   Na\n",
       "0  math vs. art  male vs. female  0.203558  0.335644  0.264724  8x2  8x2"
      ]
     },
     "metadata": {},
     "output_type": "display_data"
    },
    {
     "name": "stdout",
     "output_type": "stream",
     "text": [
      "The result is NOT significant. alpha=0.05 (0.265)\n",
      "The suggested association is: math-male and art-female(0.336)\n",
      "\n",
      "art words are 4.826% more frequent than math words\n",
      "female words are 404.502% more frequent than male words\n"
     ]
    },
    {
     "data": {
      "text/html": [
       "<div>\n",
       "<style scoped>\n",
       "    .dataframe tbody tr th:only-of-type {\n",
       "        vertical-align: middle;\n",
       "    }\n",
       "\n",
       "    .dataframe tbody tr th {\n",
       "        vertical-align: top;\n",
       "    }\n",
       "\n",
       "    .dataframe thead th {\n",
       "        text-align: right;\n",
       "    }\n",
       "</style>\n",
       "<table border=\"1\" class=\"dataframe\">\n",
       "  <thead>\n",
       "    <tr style=\"text-align: right;\">\n",
       "      <th></th>\n",
       "      <th>class</th>\n",
       "      <th>count</th>\n",
       "    </tr>\n",
       "  </thead>\n",
       "  <tbody>\n",
       "    <tr>\n",
       "      <th>0</th>\n",
       "      <td>male</td>\n",
       "      <td>585374</td>\n",
       "    </tr>\n",
       "    <tr>\n",
       "      <th>1</th>\n",
       "      <td>female</td>\n",
       "      <td>2953226</td>\n",
       "    </tr>\n",
       "    <tr>\n",
       "      <th>2</th>\n",
       "      <td>math</td>\n",
       "      <td>11209</td>\n",
       "    </tr>\n",
       "    <tr>\n",
       "      <th>3</th>\n",
       "      <td>art</td>\n",
       "      <td>11750</td>\n",
       "    </tr>\n",
       "  </tbody>\n",
       "</table>\n",
       "</div>"
      ],
      "text/plain": [
       "    class    count\n",
       "0    male   585374\n",
       "1  female  2953226\n",
       "2    math    11209\n",
       "3     art    11750"
      ]
     },
     "metadata": {},
     "output_type": "display_data"
    },
    {
     "data": {
      "text/html": [
       "<div>\n",
       "<style scoped>\n",
       "    .dataframe tbody tr th:only-of-type {\n",
       "        vertical-align: middle;\n",
       "    }\n",
       "\n",
       "    .dataframe tbody tr th {\n",
       "        vertical-align: top;\n",
       "    }\n",
       "\n",
       "    .dataframe thead th {\n",
       "        text-align: right;\n",
       "    }\n",
       "</style>\n",
       "<table border=\"1\" class=\"dataframe\">\n",
       "  <thead>\n",
       "    <tr style=\"text-align: right;\">\n",
       "      <th></th>\n",
       "      <th>class</th>\n",
       "      <th>male terms</th>\n",
       "    </tr>\n",
       "  </thead>\n",
       "  <tbody>\n",
       "    <tr>\n",
       "      <th>0</th>\n",
       "      <td>math</td>\n",
       "      <td>0.250%</td>\n",
       "    </tr>\n",
       "    <tr>\n",
       "      <th>1</th>\n",
       "      <td>art</td>\n",
       "      <td>0.125%</td>\n",
       "    </tr>\n",
       "  </tbody>\n",
       "</table>\n",
       "</div>"
      ],
      "text/plain": [
       "  class male terms\n",
       "0  math     0.250%\n",
       "1   art     0.125%"
      ]
     },
     "metadata": {},
     "output_type": "display_data"
    },
    {
     "name": "stdout",
     "output_type": "stream",
     "text": [
      "What happens if we run the same test without male terms in the target classes?\n"
     ]
    },
    {
     "data": {
      "image/png": "[encoded data removed]",
      "text/plain": [
       "<Figure size 864x288 with 1 Axes>"
      ]
     },
     "metadata": {
      "needs_background": "light"
     },
     "output_type": "display_data"
    },
    {
     "data": {
      "text/html": [
       "<div>\n",
       "<style scoped>\n",
       "    .dataframe tbody tr th:only-of-type {\n",
       "        vertical-align: middle;\n",
       "    }\n",
       "\n",
       "    .dataframe tbody tr th {\n",
       "        vertical-align: top;\n",
       "    }\n",
       "\n",
       "    .dataframe thead th {\n",
       "        text-align: right;\n",
       "    }\n",
       "</style>\n",
       "<table border=\"1\" class=\"dataframe\">\n",
       "  <thead>\n",
       "    <tr style=\"text-align: right;\">\n",
       "      <th></th>\n",
       "      <th>d</th>\n",
       "      <th>p</th>\n",
       "    </tr>\n",
       "  </thead>\n",
       "  <tbody>\n",
       "    <tr>\n",
       "      <th>count</th>\n",
       "      <td>7.000000</td>\n",
       "      <td>7.000000</td>\n",
       "    </tr>\n",
       "    <tr>\n",
       "      <th>mean</th>\n",
       "      <td>0.382557</td>\n",
       "      <td>0.296537</td>\n",
       "    </tr>\n",
       "    <tr>\n",
       "      <th>std</th>\n",
       "      <td>0.307154</td>\n",
       "      <td>0.130797</td>\n",
       "    </tr>\n",
       "    <tr>\n",
       "      <th>min</th>\n",
       "      <td>0.194130</td>\n",
       "      <td>0.047619</td>\n",
       "    </tr>\n",
       "    <tr>\n",
       "      <th>25%</th>\n",
       "      <td>0.201769</td>\n",
       "      <td>0.261905</td>\n",
       "    </tr>\n",
       "    <tr>\n",
       "      <th>50%</th>\n",
       "      <td>0.217322</td>\n",
       "      <td>0.367965</td>\n",
       "    </tr>\n",
       "    <tr>\n",
       "      <th>75%</th>\n",
       "      <td>0.432715</td>\n",
       "      <td>0.377165</td>\n",
       "    </tr>\n",
       "    <tr>\n",
       "      <th>max</th>\n",
       "      <td>0.997478</td>\n",
       "      <td>0.382035</td>\n",
       "    </tr>\n",
       "  </tbody>\n",
       "</table>\n",
       "</div>"
      ],
      "text/plain": [
       "              d         p\n",
       "count  7.000000  7.000000\n",
       "mean   0.382557  0.296537\n",
       "std    0.307154  0.130797\n",
       "min    0.194130  0.047619\n",
       "25%    0.201769  0.261905\n",
       "50%    0.217322  0.367965\n",
       "75%    0.432715  0.377165\n",
       "max    0.997478  0.382035"
      ]
     },
     "metadata": {},
     "output_type": "display_data"
    },
    {
     "name": "stdout",
     "output_type": "stream",
     "text": [
      "The result is NOT significant. alpha=0.05 (0.297)\n",
      "The suggested association is: math_no_male-male and art_no_male-female(0.383)\n",
      "\n",
      "art_no_male words are 860.168% more frequent than math_no_male words\n",
      "female words are 404.502% more frequent than male words\n"
     ]
    },
    {
     "data": {
      "text/html": [
       "<div>\n",
       "<style scoped>\n",
       "    .dataframe tbody tr th:only-of-type {\n",
       "        vertical-align: middle;\n",
       "    }\n",
       "\n",
       "    .dataframe tbody tr th {\n",
       "        vertical-align: top;\n",
       "    }\n",
       "\n",
       "    .dataframe thead th {\n",
       "        text-align: right;\n",
       "    }\n",
       "</style>\n",
       "<table border=\"1\" class=\"dataframe\">\n",
       "  <thead>\n",
       "    <tr style=\"text-align: right;\">\n",
       "      <th></th>\n",
       "      <th>class</th>\n",
       "      <th>count</th>\n",
       "    </tr>\n",
       "  </thead>\n",
       "  <tbody>\n",
       "    <tr>\n",
       "      <th>0</th>\n",
       "      <td>male</td>\n",
       "      <td>585374</td>\n",
       "    </tr>\n",
       "    <tr>\n",
       "      <th>1</th>\n",
       "      <td>female</td>\n",
       "      <td>2953226</td>\n",
       "    </tr>\n",
       "    <tr>\n",
       "      <th>2</th>\n",
       "      <td>math_no_male</td>\n",
       "      <td>1190</td>\n",
       "    </tr>\n",
       "    <tr>\n",
       "      <th>3</th>\n",
       "      <td>art_no_male</td>\n",
       "      <td>11426</td>\n",
       "    </tr>\n",
       "  </tbody>\n",
       "</table>\n",
       "</div>"
      ],
      "text/plain": [
       "          class    count\n",
       "0          male   585374\n",
       "1        female  2953226\n",
       "2  math_no_male     1190\n",
       "3   art_no_male    11426"
      ]
     },
     "metadata": {},
     "output_type": "display_data"
    }
   ],
   "source": [
    "# esperimento standard\n",
    "weat7_result = make_experiment(weat7['male'], weat7['female'], weat7['math'], weat7['art'])\n",
    "display(weat7_result)\n",
    "\n",
    "evaluate_experiment(weat7_result, weat7['male'], weat7['female'], weat7['math'], weat7['art'])\n",
    "\n",
    "display(experiment_word_frequency(weat7['male'], weat7['female'], weat7['math'], weat7['art']))\n",
    "\n",
    "display(male_term_percentage(weat7))\n",
    "\n",
    "print(\"What happens if we run the same test without male terms in the target classes?\")\n",
    "\n",
    "# esperimento no male\n",
    "weat7_result_no_male = make_experiment(weat7['male'], weat7['female'], weat7['math_no_male'], weat7['art_no_male'])\n",
    "display(weat7_result_no_male)\n",
    "\n",
    "evaluate_experiment(weat7_result_no_male, weat7['male'], weat7['female'], weat7['math_no_male'], weat7['art_no_male'])\n",
    "\n",
    "display(experiment_word_frequency(weat7['male'], weat7['female'], weat7['math_no_male'], weat7['art_no_male']))"
   ]
  },
  {
   "cell_type": "markdown",
   "id": "da15a1c3",
   "metadata": {},
   "source": [
    "# WEAT 8"
   ]
  },
  {
   "cell_type": "code",
   "execution_count": 10,
   "id": "d4f42a64",
   "metadata": {},
   "outputs": [
    {
     "data": {
      "image/png": "[encoded data removed]",
      "text/plain": [
       "<Figure size 864x288 with 1 Axes>"
      ]
     },
     "metadata": {
      "needs_background": "light"
     },
     "output_type": "display_data"
    },
    {
     "data": {
      "text/html": [
       "<div>\n",
       "<style scoped>\n",
       "    .dataframe tbody tr th:only-of-type {\n",
       "        vertical-align: middle;\n",
       "    }\n",
       "\n",
       "    .dataframe tbody tr th {\n",
       "        vertical-align: top;\n",
       "    }\n",
       "\n",
       "    .dataframe thead th {\n",
       "        text-align: right;\n",
       "    }\n",
       "</style>\n",
       "<table border=\"1\" class=\"dataframe\">\n",
       "  <thead>\n",
       "    <tr style=\"text-align: right;\">\n",
       "      <th></th>\n",
       "      <th>d</th>\n",
       "      <th>p</th>\n",
       "    </tr>\n",
       "  </thead>\n",
       "  <tbody>\n",
       "    <tr>\n",
       "      <th>count</th>\n",
       "      <td>8.000000</td>\n",
       "      <td>8.000000</td>\n",
       "    </tr>\n",
       "    <tr>\n",
       "      <th>mean</th>\n",
       "      <td>-0.212491</td>\n",
       "      <td>0.641171</td>\n",
       "    </tr>\n",
       "    <tr>\n",
       "      <th>std</th>\n",
       "      <td>0.160482</td>\n",
       "      <td>0.105455</td>\n",
       "    </tr>\n",
       "    <tr>\n",
       "      <th>min</th>\n",
       "      <td>-0.394527</td>\n",
       "      <td>0.479604</td>\n",
       "    </tr>\n",
       "    <tr>\n",
       "      <th>25%</th>\n",
       "      <td>-0.331763</td>\n",
       "      <td>0.555580</td>\n",
       "    </tr>\n",
       "    <tr>\n",
       "      <th>50%</th>\n",
       "      <td>-0.264569</td>\n",
       "      <td>0.686334</td>\n",
       "    </tr>\n",
       "    <tr>\n",
       "      <th>75%</th>\n",
       "      <td>-0.089162</td>\n",
       "      <td>0.718022</td>\n",
       "    </tr>\n",
       "    <tr>\n",
       "      <th>max</th>\n",
       "      <td>0.029958</td>\n",
       "      <td>0.753205</td>\n",
       "    </tr>\n",
       "  </tbody>\n",
       "</table>\n",
       "</div>"
      ],
      "text/plain": [
       "              d         p\n",
       "count  8.000000  8.000000\n",
       "mean  -0.212491  0.641171\n",
       "std    0.160482  0.105455\n",
       "min   -0.394527  0.479604\n",
       "25%   -0.331763  0.555580\n",
       "50%   -0.264569  0.686334\n",
       "75%   -0.089162  0.718022\n",
       "max    0.029958  0.753205"
      ]
     },
     "metadata": {},
     "output_type": "display_data"
    },
    {
     "name": "stdout",
     "output_type": "stream",
     "text": [
      "The result is NOT significant. alpha=0.05 (0.641)\n",
      "The suggested association is: art-male and science-female(-0.212)\n",
      "\n",
      "science words are 31.658% more frequent than art words\n",
      "female words are 420.453% more frequent than male words\n"
     ]
    },
    {
     "data": {
      "text/html": [
       "<div>\n",
       "<style scoped>\n",
       "    .dataframe tbody tr th:only-of-type {\n",
       "        vertical-align: middle;\n",
       "    }\n",
       "\n",
       "    .dataframe tbody tr th {\n",
       "        vertical-align: top;\n",
       "    }\n",
       "\n",
       "    .dataframe thead th {\n",
       "        text-align: right;\n",
       "    }\n",
       "</style>\n",
       "<table border=\"1\" class=\"dataframe\">\n",
       "  <thead>\n",
       "    <tr style=\"text-align: right;\">\n",
       "      <th></th>\n",
       "      <th>class</th>\n",
       "      <th>count</th>\n",
       "    </tr>\n",
       "  </thead>\n",
       "  <tbody>\n",
       "    <tr>\n",
       "      <th>0</th>\n",
       "      <td>male</td>\n",
       "      <td>566687</td>\n",
       "    </tr>\n",
       "    <tr>\n",
       "      <th>1</th>\n",
       "      <td>female</td>\n",
       "      <td>2949340</td>\n",
       "    </tr>\n",
       "    <tr>\n",
       "      <th>2</th>\n",
       "      <td>science</td>\n",
       "      <td>15454</td>\n",
       "    </tr>\n",
       "    <tr>\n",
       "      <th>3</th>\n",
       "      <td>art</td>\n",
       "      <td>11738</td>\n",
       "    </tr>\n",
       "  </tbody>\n",
       "</table>\n",
       "</div>"
      ],
      "text/plain": [
       "     class    count\n",
       "0     male   566687\n",
       "1   female  2949340\n",
       "2  science    15454\n",
       "3      art    11738"
      ]
     },
     "metadata": {},
     "output_type": "display_data"
    },
    {
     "data": {
      "text/html": [
       "<div>\n",
       "<style scoped>\n",
       "    .dataframe tbody tr th:only-of-type {\n",
       "        vertical-align: middle;\n",
       "    }\n",
       "\n",
       "    .dataframe tbody tr th {\n",
       "        vertical-align: top;\n",
       "    }\n",
       "\n",
       "    .dataframe thead th {\n",
       "        text-align: right;\n",
       "    }\n",
       "</style>\n",
       "<table border=\"1\" class=\"dataframe\">\n",
       "  <thead>\n",
       "    <tr style=\"text-align: right;\">\n",
       "      <th></th>\n",
       "      <th>class</th>\n",
       "      <th>male terms</th>\n",
       "    </tr>\n",
       "  </thead>\n",
       "  <tbody>\n",
       "    <tr>\n",
       "      <th>0</th>\n",
       "      <td>science</td>\n",
       "      <td>0.286%</td>\n",
       "    </tr>\n",
       "    <tr>\n",
       "      <th>1</th>\n",
       "      <td>art</td>\n",
       "      <td>0.250%</td>\n",
       "    </tr>\n",
       "  </tbody>\n",
       "</table>\n",
       "</div>"
      ],
      "text/plain": [
       "     class male terms\n",
       "0  science     0.286%\n",
       "1      art     0.250%"
      ]
     },
     "metadata": {},
     "output_type": "display_data"
    },
    {
     "name": "stdout",
     "output_type": "stream",
     "text": [
      "What happens if we run the same test without male terms in the target classes?\n"
     ]
    },
    {
     "data": {
      "image/png": "[encoded data removed]",
      "text/plain": [
       "<Figure size 864x288 with 1 Axes>"
      ]
     },
     "metadata": {
      "needs_background": "light"
     },
     "output_type": "display_data"
    },
    {
     "data": {
      "text/html": [
       "<div>\n",
       "<style scoped>\n",
       "    .dataframe tbody tr th:only-of-type {\n",
       "        vertical-align: middle;\n",
       "    }\n",
       "\n",
       "    .dataframe tbody tr th {\n",
       "        vertical-align: top;\n",
       "    }\n",
       "\n",
       "    .dataframe thead th {\n",
       "        text-align: right;\n",
       "    }\n",
       "</style>\n",
       "<table border=\"1\" class=\"dataframe\">\n",
       "  <thead>\n",
       "    <tr style=\"text-align: right;\">\n",
       "      <th></th>\n",
       "      <th>d</th>\n",
       "      <th>p</th>\n",
       "    </tr>\n",
       "  </thead>\n",
       "  <tbody>\n",
       "    <tr>\n",
       "      <th>count</th>\n",
       "      <td>6.000000</td>\n",
       "      <td>6.000000</td>\n",
       "    </tr>\n",
       "    <tr>\n",
       "      <th>mean</th>\n",
       "      <td>-0.306969</td>\n",
       "      <td>0.665344</td>\n",
       "    </tr>\n",
       "    <tr>\n",
       "      <th>std</th>\n",
       "      <td>0.250634</td>\n",
       "      <td>0.129018</td>\n",
       "    </tr>\n",
       "    <tr>\n",
       "      <th>min</th>\n",
       "      <td>-0.525680</td>\n",
       "      <td>0.408730</td>\n",
       "    </tr>\n",
       "    <tr>\n",
       "      <th>25%</th>\n",
       "      <td>-0.438624</td>\n",
       "      <td>0.681548</td>\n",
       "    </tr>\n",
       "    <tr>\n",
       "      <th>50%</th>\n",
       "      <td>-0.398824</td>\n",
       "      <td>0.708333</td>\n",
       "    </tr>\n",
       "    <tr>\n",
       "      <th>75%</th>\n",
       "      <td>-0.274759</td>\n",
       "      <td>0.726190</td>\n",
       "    </tr>\n",
       "    <tr>\n",
       "      <th>max</th>\n",
       "      <td>0.166807</td>\n",
       "      <td>0.761905</td>\n",
       "    </tr>\n",
       "  </tbody>\n",
       "</table>\n",
       "</div>"
      ],
      "text/plain": [
       "              d         p\n",
       "count  6.000000  6.000000\n",
       "mean  -0.306969  0.665344\n",
       "std    0.250634  0.129018\n",
       "min   -0.525680  0.408730\n",
       "25%   -0.438624  0.681548\n",
       "50%   -0.398824  0.708333\n",
       "75%   -0.274759  0.726190\n",
       "max    0.166807  0.761905"
      ]
     },
     "metadata": {},
     "output_type": "display_data"
    },
    {
     "name": "stdout",
     "output_type": "stream",
     "text": [
      "The result is NOT significant. alpha=0.05 (0.665)\n",
      "The suggested association is: art_no_male-male and science_no_male-female(-0.307)\n",
      "\n",
      "science_no_male words are 17.644% more frequent than art_no_male words\n",
      "female words are 420.453% more frequent than male words\n"
     ]
    },
    {
     "data": {
      "text/html": [
       "<div>\n",
       "<style scoped>\n",
       "    .dataframe tbody tr th:only-of-type {\n",
       "        vertical-align: middle;\n",
       "    }\n",
       "\n",
       "    .dataframe tbody tr th {\n",
       "        vertical-align: top;\n",
       "    }\n",
       "\n",
       "    .dataframe thead th {\n",
       "        text-align: right;\n",
       "    }\n",
       "</style>\n",
       "<table border=\"1\" class=\"dataframe\">\n",
       "  <thead>\n",
       "    <tr style=\"text-align: right;\">\n",
       "      <th></th>\n",
       "      <th>class</th>\n",
       "      <th>count</th>\n",
       "    </tr>\n",
       "  </thead>\n",
       "  <tbody>\n",
       "    <tr>\n",
       "      <th>0</th>\n",
       "      <td>male</td>\n",
       "      <td>566687</td>\n",
       "    </tr>\n",
       "    <tr>\n",
       "      <th>1</th>\n",
       "      <td>female</td>\n",
       "      <td>2949340</td>\n",
       "    </tr>\n",
       "    <tr>\n",
       "      <th>2</th>\n",
       "      <td>science_no_male</td>\n",
       "      <td>13362</td>\n",
       "    </tr>\n",
       "    <tr>\n",
       "      <th>3</th>\n",
       "      <td>art_no_male</td>\n",
       "      <td>11358</td>\n",
       "    </tr>\n",
       "  </tbody>\n",
       "</table>\n",
       "</div>"
      ],
      "text/plain": [
       "             class    count\n",
       "0             male   566687\n",
       "1           female  2949340\n",
       "2  science_no_male    13362\n",
       "3      art_no_male    11358"
      ]
     },
     "metadata": {},
     "output_type": "display_data"
    }
   ],
   "source": [
    "# esperimento standard\n",
    "weat8_result = make_experiment(weat8['male'], weat8['female'], weat8['science'], weat8['art'], plot_name='weat8.ecs')\n",
    "display(weat8_result)\n",
    "\n",
    "evaluate_experiment(weat8_result, weat8['male'], weat8['female'], weat8['science'], weat8['art'])\n",
    "\n",
    "display(experiment_word_frequency(weat8['male'], weat8['female'], weat8['science'], weat8['art']))\n",
    "\n",
    "display(male_term_percentage(weat8))\n",
    "\n",
    "print(\"What happens if we run the same test without male terms in the target classes?\")\n",
    "\n",
    "# esperimento no male\n",
    "weat8_result_no_male = make_experiment(weat8['male'], weat8['female'], weat8['science_no_male'], weat8['art_no_male'])\n",
    "display(weat8_result_no_male)\n",
    "\n",
    "evaluate_experiment(weat8_result_no_male, weat8['male'], weat8['female'], weat8['science_no_male'], weat8['art_no_male'])\n",
    "\n",
    "display(experiment_word_frequency(weat8['male'], weat8['female'], weat8['science_no_male'], weat8['art_no_male']))"
   ]
  },
  {
   "cell_type": "markdown",
   "id": "5010bcd3",
   "metadata": {},
   "source": [
    "# WEAT 8 Implicit"
   ]
  },
  {
   "cell_type": "code",
   "execution_count": 11,
   "id": "967555a6",
   "metadata": {},
   "outputs": [
    {
     "data": {
      "text/html": [
       "<div>\n",
       "<style scoped>\n",
       "    .dataframe tbody tr th:only-of-type {\n",
       "        vertical-align: middle;\n",
       "    }\n",
       "\n",
       "    .dataframe tbody tr th {\n",
       "        vertical-align: top;\n",
       "    }\n",
       "\n",
       "    .dataframe thead th {\n",
       "        text-align: right;\n",
       "    }\n",
       "</style>\n",
       "<table border=\"1\" class=\"dataframe\">\n",
       "  <thead>\n",
       "    <tr style=\"text-align: right;\">\n",
       "      <th></th>\n",
       "      <th>Target words</th>\n",
       "      <th>Attrib. words</th>\n",
       "      <th>s</th>\n",
       "      <th>d</th>\n",
       "      <th>p</th>\n",
       "      <th>Nt</th>\n",
       "      <th>Na</th>\n",
       "    </tr>\n",
       "  </thead>\n",
       "  <tbody>\n",
       "    <tr>\n",
       "      <th>0</th>\n",
       "      <td>science vs. art</td>\n",
       "      <td>male vs. female</td>\n",
       "      <td>-0.00769</td>\n",
       "      <td>-0.011787</td>\n",
       "      <td>0.507867</td>\n",
       "      <td>7x2</td>\n",
       "      <td>6x2</td>\n",
       "    </tr>\n",
       "  </tbody>\n",
       "</table>\n",
       "</div>"
      ],
      "text/plain": [
       "      Target words    Attrib. words        s         d         p   Nt   Na\n",
       "0  science vs. art  male vs. female -0.00769 -0.011787  0.507867  7x2  6x2"
      ]
     },
     "metadata": {},
     "output_type": "display_data"
    },
    {
     "name": "stdout",
     "output_type": "stream",
     "text": [
      "The result is NOT significant. alpha=0.05 (0.508)\n",
      "The suggested association is: art-male and science-female(-0.012)\n",
      "\n",
      "art words are 1100.087% more frequent than science words\n",
      "male words are 72.139% more frequent than female words\n"
     ]
    },
    {
     "data": {
      "text/html": [
       "<div>\n",
       "<style scoped>\n",
       "    .dataframe tbody tr th:only-of-type {\n",
       "        vertical-align: middle;\n",
       "    }\n",
       "\n",
       "    .dataframe tbody tr th {\n",
       "        vertical-align: top;\n",
       "    }\n",
       "\n",
       "    .dataframe thead th {\n",
       "        text-align: right;\n",
       "    }\n",
       "</style>\n",
       "<table border=\"1\" class=\"dataframe\">\n",
       "  <thead>\n",
       "    <tr style=\"text-align: right;\">\n",
       "      <th></th>\n",
       "      <th>class</th>\n",
       "      <th>count</th>\n",
       "    </tr>\n",
       "  </thead>\n",
       "  <tbody>\n",
       "    <tr>\n",
       "      <th>0</th>\n",
       "      <td>male</td>\n",
       "      <td>30040</td>\n",
       "    </tr>\n",
       "    <tr>\n",
       "      <th>1</th>\n",
       "      <td>female</td>\n",
       "      <td>17451</td>\n",
       "    </tr>\n",
       "    <tr>\n",
       "      <th>2</th>\n",
       "      <td>science</td>\n",
       "      <td>9217</td>\n",
       "    </tr>\n",
       "    <tr>\n",
       "      <th>3</th>\n",
       "      <td>art</td>\n",
       "      <td>110612</td>\n",
       "    </tr>\n",
       "  </tbody>\n",
       "</table>\n",
       "</div>"
      ],
      "text/plain": [
       "     class   count\n",
       "0     male   30040\n",
       "1   female   17451\n",
       "2  science    9217\n",
       "3      art  110612"
      ]
     },
     "metadata": {},
     "output_type": "display_data"
    },
    {
     "data": {
      "text/html": [
       "<div>\n",
       "<style scoped>\n",
       "    .dataframe tbody tr th:only-of-type {\n",
       "        vertical-align: middle;\n",
       "    }\n",
       "\n",
       "    .dataframe tbody tr th {\n",
       "        vertical-align: top;\n",
       "    }\n",
       "\n",
       "    .dataframe thead th {\n",
       "        text-align: right;\n",
       "    }\n",
       "</style>\n",
       "<table border=\"1\" class=\"dataframe\">\n",
       "  <thead>\n",
       "    <tr style=\"text-align: right;\">\n",
       "      <th></th>\n",
       "      <th>class</th>\n",
       "      <th>male terms</th>\n",
       "    </tr>\n",
       "  </thead>\n",
       "  <tbody>\n",
       "    <tr>\n",
       "      <th>0</th>\n",
       "      <td>science</td>\n",
       "      <td>0.000%</td>\n",
       "    </tr>\n",
       "    <tr>\n",
       "      <th>1</th>\n",
       "      <td>art</td>\n",
       "      <td>0.143%</td>\n",
       "    </tr>\n",
       "  </tbody>\n",
       "</table>\n",
       "</div>"
      ],
      "text/plain": [
       "     class male terms\n",
       "0  science     0.000%\n",
       "1      art     0.143%"
      ]
     },
     "metadata": {},
     "output_type": "display_data"
    },
    {
     "name": "stdout",
     "output_type": "stream",
     "text": [
      "What happens if we run the same test without male terms in the target classes?\n"
     ]
    },
    {
     "data": {
      "image/png": "[encoded data removed]",
      "text/plain": [
       "<Figure size 864x288 with 1 Axes>"
      ]
     },
     "metadata": {
      "needs_background": "light"
     },
     "output_type": "display_data"
    },
    {
     "data": {
      "text/html": [
       "<div>\n",
       "<style scoped>\n",
       "    .dataframe tbody tr th:only-of-type {\n",
       "        vertical-align: middle;\n",
       "    }\n",
       "\n",
       "    .dataframe tbody tr th {\n",
       "        vertical-align: top;\n",
       "    }\n",
       "\n",
       "    .dataframe thead th {\n",
       "        text-align: right;\n",
       "    }\n",
       "</style>\n",
       "<table border=\"1\" class=\"dataframe\">\n",
       "  <thead>\n",
       "    <tr style=\"text-align: right;\">\n",
       "      <th></th>\n",
       "      <th>d</th>\n",
       "      <th>p</th>\n",
       "    </tr>\n",
       "  </thead>\n",
       "  <tbody>\n",
       "    <tr>\n",
       "      <th>count</th>\n",
       "      <td>7.000000</td>\n",
       "      <td>7.000000</td>\n",
       "    </tr>\n",
       "    <tr>\n",
       "      <th>mean</th>\n",
       "      <td>0.378670</td>\n",
       "      <td>0.272573</td>\n",
       "    </tr>\n",
       "    <tr>\n",
       "      <th>std</th>\n",
       "      <td>0.126526</td>\n",
       "      <td>0.069254</td>\n",
       "    </tr>\n",
       "    <tr>\n",
       "      <th>min</th>\n",
       "      <td>0.160983</td>\n",
       "      <td>0.180736</td>\n",
       "    </tr>\n",
       "    <tr>\n",
       "      <th>25%</th>\n",
       "      <td>0.327812</td>\n",
       "      <td>0.234307</td>\n",
       "    </tr>\n",
       "    <tr>\n",
       "      <th>50%</th>\n",
       "      <td>0.388700</td>\n",
       "      <td>0.262987</td>\n",
       "    </tr>\n",
       "    <tr>\n",
       "      <th>75%</th>\n",
       "      <td>0.443138</td>\n",
       "      <td>0.300325</td>\n",
       "    </tr>\n",
       "    <tr>\n",
       "      <th>max</th>\n",
       "      <td>0.559106</td>\n",
       "      <td>0.395022</td>\n",
       "    </tr>\n",
       "  </tbody>\n",
       "</table>\n",
       "</div>"
      ],
      "text/plain": [
       "              d         p\n",
       "count  7.000000  7.000000\n",
       "mean   0.378670  0.272573\n",
       "std    0.126526  0.069254\n",
       "min    0.160983  0.180736\n",
       "25%    0.327812  0.234307\n",
       "50%    0.388700  0.262987\n",
       "75%    0.443138  0.300325\n",
       "max    0.559106  0.395022"
      ]
     },
     "metadata": {},
     "output_type": "display_data"
    },
    {
     "name": "stdout",
     "output_type": "stream",
     "text": [
      "The result is NOT significant. alpha=0.05 (0.273)\n",
      "The suggested association is: science_no_male-male and art_no_male-female(0.379)\n",
      "\n",
      "art_no_male words are 1096.441% more frequent than science_no_male words\n",
      "male words are 72.139% more frequent than female words\n"
     ]
    },
    {
     "data": {
      "text/html": [
       "<div>\n",
       "<style scoped>\n",
       "    .dataframe tbody tr th:only-of-type {\n",
       "        vertical-align: middle;\n",
       "    }\n",
       "\n",
       "    .dataframe tbody tr th {\n",
       "        vertical-align: top;\n",
       "    }\n",
       "\n",
       "    .dataframe thead th {\n",
       "        text-align: right;\n",
       "    }\n",
       "</style>\n",
       "<table border=\"1\" class=\"dataframe\">\n",
       "  <thead>\n",
       "    <tr style=\"text-align: right;\">\n",
       "      <th></th>\n",
       "      <th>class</th>\n",
       "      <th>count</th>\n",
       "    </tr>\n",
       "  </thead>\n",
       "  <tbody>\n",
       "    <tr>\n",
       "      <th>0</th>\n",
       "      <td>male</td>\n",
       "      <td>30040</td>\n",
       "    </tr>\n",
       "    <tr>\n",
       "      <th>1</th>\n",
       "      <td>female</td>\n",
       "      <td>17451</td>\n",
       "    </tr>\n",
       "    <tr>\n",
       "      <th>2</th>\n",
       "      <td>science_no_male</td>\n",
       "      <td>9217</td>\n",
       "    </tr>\n",
       "    <tr>\n",
       "      <th>3</th>\n",
       "      <td>art_no_male</td>\n",
       "      <td>110276</td>\n",
       "    </tr>\n",
       "  </tbody>\n",
       "</table>\n",
       "</div>"
      ],
      "text/plain": [
       "             class   count\n",
       "0             male   30040\n",
       "1           female   17451\n",
       "2  science_no_male    9217\n",
       "3      art_no_male  110276"
      ]
     },
     "metadata": {},
     "output_type": "display_data"
    }
   ],
   "source": [
    "# esperimento standard\n",
    "weat8_implicit_result = make_experiment(weat8_implicit['male'], weat8_implicit['female'], weat8_implicit['science'], weat8_implicit['art'])\n",
    "display(weat8_implicit_result)\n",
    "\n",
    "evaluate_experiment(weat8_implicit_result, weat8_implicit['male'], weat8_implicit['female'], weat8_implicit['science'], weat8_implicit['art'])\n",
    "\n",
    "display(experiment_word_frequency(weat8_implicit['male'], weat8_implicit['female'], weat8_implicit['science'], weat8_implicit['art']))\n",
    "\n",
    "display(male_term_percentage(weat8_implicit))\n",
    "\n",
    "print(\"What happens if we run the same test without male terms in the target classes?\")\n",
    "\n",
    "# esperimento no male\n",
    "weat8_implicit_result_no_male = make_experiment(weat8_implicit['male'], weat8_implicit['female'], weat8_implicit['science_no_male'], weat8_implicit['art_no_male'])\n",
    "display(weat8_implicit_result_no_male)\n",
    "\n",
    "evaluate_experiment(weat8_implicit_result_no_male, weat8_implicit['male'], weat8_implicit['female'], weat8_implicit['science_no_male'], weat8_implicit['art_no_male'])\n",
    "\n",
    "display(experiment_word_frequency(weat8_implicit['male'], weat8_implicit['female'], weat8_implicit['science_no_male'], weat8_implicit['art_no_male']))"
   ]
  },
  {
   "cell_type": "markdown",
   "id": "c12aa47d",
   "metadata": {},
   "source": [
    "# WEAT 7 - All classes"
   ]
  },
  {
   "cell_type": "code",
   "execution_count": 12,
   "id": "81bd9a62",
   "metadata": {},
   "outputs": [
    {
     "name": "stdout",
     "output_type": "stream",
     "text": [
      "Experiment 0\n",
      "['maschio', 'uomo', 'ragazzo']\t['femmina', 'donna', 'ragazza']\t['matematica', 'algebra', 'geometria']\t['poesia', 'arte', 'danza']\t\n",
      "Experiment 1\n",
      "['maschio', 'uomo', 'ragazzo']\t['femmina', 'donna', 'ragazza']\t['matematica', 'algebra', 'geometria']\t['poesia', 'arte', 'shakespeare']\t\n",
      "Experiment 2\n",
      "['maschio', 'uomo', 'ragazzo']\t['femmina', 'donna', 'ragazza']\t['matematica', 'algebra', 'geometria']\t['filosofia', 'umanesimo', 'arte']\t\n"
     ]
    },
    {
     "data": {
      "image/png": "[encoded data removed]",
      "text/plain": [
       "<Figure size 864x288 with 1 Axes>"
      ]
     },
     "metadata": {
      "needs_background": "light"
     },
     "output_type": "display_data"
    },
    {
     "name": "stdout",
     "output_type": "stream",
     "text": [
      "Experiment 3\n",
      "['fratello', 'padre', 'zio']\t['sorella', 'madre', 'zia']\t['matematica', 'algebra', 'geometria']\t['poesia', 'arte', 'danza']\t\n",
      "Experiment 4\n",
      "['fratello', 'padre', 'zio']\t['sorella', 'madre', 'zia']\t['matematica', 'algebra', 'geometria']\t['poesia', 'arte', 'shakespeare']\t\n",
      "Experiment 5\n",
      "['fratello', 'padre', 'zio']\t['sorella', 'madre', 'zia']\t['matematica', 'algebra', 'geometria']\t['filosofia', 'umanesimo', 'arte']\t\n"
     ]
    },
    {
     "data": {
      "image/png": "[encoded data removed]",
      "text/plain": [
       "<Figure size 864x288 with 1 Axes>"
      ]
     },
     "metadata": {
      "needs_background": "light"
     },
     "output_type": "display_data"
    },
    {
     "name": "stdout",
     "output_type": "stream",
     "text": [
      "Experiment 6\n",
      "['uomo', 'padre', 'maschio']\t['donna', 'madre', 'femmina']\t['matematica', 'algebra', 'geometria']\t['poesia', 'arte', 'danza']\t\n",
      "Experiment 7\n",
      "['uomo', 'padre', 'maschio']\t['donna', 'madre', 'femmina']\t['matematica', 'algebra', 'geometria']\t['poesia', 'arte', 'shakespeare']\t\n",
      "Experiment 8\n",
      "['uomo', 'padre', 'maschio']\t['donna', 'madre', 'femmina']\t['matematica', 'algebra', 'geometria']\t['filosofia', 'umanesimo', 'arte']\t\n"
     ]
    },
    {
     "data": {
      "image/png": "[encoded data removed]",
      "text/plain": [
       "<Figure size 864x288 with 1 Axes>"
      ]
     },
     "metadata": {
      "needs_background": "light"
     },
     "output_type": "display_data"
    },
    {
     "name": "stdout",
     "output_type": "stream",
     "text": [
      "What happens if I run WEAT 7 with the classes male/female, math and art from the other tests?\n",
      "How much impact does have the class definition on the results?\n"
     ]
    },
    {
     "data": {
      "text/html": [
       "<div>\n",
       "<style scoped>\n",
       "    .dataframe tbody tr th:only-of-type {\n",
       "        vertical-align: middle;\n",
       "    }\n",
       "\n",
       "    .dataframe tbody tr th {\n",
       "        vertical-align: top;\n",
       "    }\n",
       "\n",
       "    .dataframe thead th {\n",
       "        text-align: right;\n",
       "    }\n",
       "</style>\n",
       "<table border=\"1\" class=\"dataframe\">\n",
       "  <thead>\n",
       "    <tr style=\"text-align: right;\">\n",
       "      <th></th>\n",
       "      <th>count</th>\n",
       "      <th>mean</th>\n",
       "      <th>std</th>\n",
       "      <th>min</th>\n",
       "      <th>25%</th>\n",
       "      <th>50%</th>\n",
       "      <th>75%</th>\n",
       "      <th>max</th>\n",
       "    </tr>\n",
       "  </thead>\n",
       "  <tbody>\n",
       "    <tr>\n",
       "      <th>p</th>\n",
       "      <td>9.0</td>\n",
       "      <td>0.407646</td>\n",
       "      <td>0.159997</td>\n",
       "      <td>0.201777</td>\n",
       "      <td>0.280157</td>\n",
       "      <td>0.373434</td>\n",
       "      <td>0.516084</td>\n",
       "      <td>0.700622</td>\n",
       "    </tr>\n",
       "  </tbody>\n",
       "</table>\n",
       "</div>"
      ],
      "text/plain": [
       "   count      mean       std       min       25%       50%       75%       max\n",
       "p    9.0  0.407646  0.159997  0.201777  0.280157  0.373434  0.516084  0.700622"
      ]
     },
     "metadata": {},
     "output_type": "display_data"
    },
    {
     "data": {
      "text/html": [
       "<div>\n",
       "<style scoped>\n",
       "    .dataframe tbody tr th:only-of-type {\n",
       "        vertical-align: middle;\n",
       "    }\n",
       "\n",
       "    .dataframe tbody tr th {\n",
       "        vertical-align: top;\n",
       "    }\n",
       "\n",
       "    .dataframe thead th {\n",
       "        text-align: right;\n",
       "    }\n",
       "</style>\n",
       "<table border=\"1\" class=\"dataframe\">\n",
       "  <thead>\n",
       "    <tr style=\"text-align: right;\">\n",
       "      <th></th>\n",
       "      <th>count</th>\n",
       "      <th>mean</th>\n",
       "      <th>std</th>\n",
       "      <th>min</th>\n",
       "      <th>25%</th>\n",
       "      <th>50%</th>\n",
       "      <th>75%</th>\n",
       "      <th>max</th>\n",
       "    </tr>\n",
       "  </thead>\n",
       "  <tbody>\n",
       "    <tr>\n",
       "      <th>d</th>\n",
       "      <td>9.0</td>\n",
       "      <td>0.141739</td>\n",
       "      <td>0.239533</td>\n",
       "      <td>-0.280386</td>\n",
       "      <td>-0.028704</td>\n",
       "      <td>0.19146</td>\n",
       "      <td>0.335644</td>\n",
       "      <td>0.483975</td>\n",
       "    </tr>\n",
       "  </tbody>\n",
       "</table>\n",
       "</div>"
      ],
      "text/plain": [
       "   count      mean       std       min       25%      50%       75%       max\n",
       "d    9.0  0.141739  0.239533 -0.280386 -0.028704  0.19146  0.335644  0.483975"
      ]
     },
     "metadata": {},
     "output_type": "display_data"
    },
    {
     "data": {
      "image/png": "[encoded data removed]",
      "text/plain": [
       "<Figure size 864x288 with 1 Axes>"
      ]
     },
     "metadata": {
      "needs_background": "light"
     },
     "output_type": "display_data"
    }
   ],
   "source": [
    "# lavoriamo con male, female, math e art\n",
    "maths = []\n",
    "arts = []\n",
    "\n",
    "experiments = [weat7, weat8, weat8_implicit]\n",
    "\n",
    "for exp in experiments:\n",
    "    if 'math' in exp:\n",
    "        maths.append(exp['math'])\n",
    "    if 'art' in exp:\n",
    "        arts.append(exp['art'])\n",
    "        \n",
    "results = []\n",
    "for i, (exp, math, art) in enumerate(product(experiments, maths, arts)):\n",
    "    print(f'Experiment {i}')\n",
    "    print(f'{exp[\"male\"][\"words\"][0:3]}\\t{exp[\"female\"][\"words\"][0:3]}\\t{math[\"words\"][0:3]}\\t{art[\"words\"][0:3]}\\t')\n",
    "    r = make_experiment(exp['male'], exp['female'], math, art)\n",
    "    color = 'blue'\n",
    "    try:\n",
    "        row = r.loc['mean', ['p', 'd']]\n",
    "        color = 'red'\n",
    "    except:\n",
    "        row = r.loc[0, ['p', 'd']]\n",
    "    results.append({\n",
    "        'p': row['p'],\n",
    "        'd': row['d'],\n",
    "        'experiment': i,\n",
    "        'color': color\n",
    "    })\n",
    "\n",
    "df_r = pd.DataFrame(results)\n",
    "\n",
    "print(f'What happens if I run WEAT 7 with the classes male/female, math and art from the other tests?')\n",
    "print(f'How much impact does have the class definition on the results?')\n",
    "display(pd.DataFrame(df_r['p'].describe()).T)\n",
    "display(pd.DataFrame(df_r['d'].describe()).T)\n",
    "\n",
    "df_r.plot(kind='scatter', x='p', y='d', c='color')\n",
    "plt.legend(handles=[red_patch, blue_patch])\n",
    "plt.savefig('weat7_allclasses.eps', format='eps')\n",
    "\n",
    "for i, r in enumerate(results):\n",
    "    plt.text(r['p'], r['d'], i)\n",
    "\n",
    "plt.show()"
   ]
  },
  {
   "cell_type": "markdown",
   "id": "a770ed78",
   "metadata": {},
   "source": [
    "# WEAT 8 - All classes"
   ]
  },
  {
   "cell_type": "code",
   "execution_count": 13,
   "id": "3542601f",
   "metadata": {},
   "outputs": [
    {
     "name": "stdout",
     "output_type": "stream",
     "text": [
      "Experiment 0\n",
      "['maschio', 'uomo', 'ragazzo']\t['femmina', 'donna', 'ragazza']\t['scienza', 'tecnologia', 'fisica']\t['poesia', 'arte', 'danza']\t\n"
     ]
    },
    {
     "data": {
      "image/png": "[encoded data removed]",
      "text/plain": [
       "<Figure size 864x288 with 1 Axes>"
      ]
     },
     "metadata": {
      "needs_background": "light"
     },
     "output_type": "display_data"
    },
    {
     "name": "stdout",
     "output_type": "stream",
     "text": [
      "Experiment 1\n",
      "['maschio', 'uomo', 'ragazzo']\t['femmina', 'donna', 'ragazza']\t['scienza', 'tecnologia', 'fisica']\t['poesia', 'arte', 'shakespeare']\t\n"
     ]
    },
    {
     "data": {
      "image/png": "[encoded data removed]",
      "text/plain": [
       "<Figure size 864x288 with 1 Axes>"
      ]
     },
     "metadata": {
      "needs_background": "light"
     },
     "output_type": "display_data"
    },
    {
     "name": "stdout",
     "output_type": "stream",
     "text": [
      "Experiment 2\n",
      "['maschio', 'uomo', 'ragazzo']\t['femmina', 'donna', 'ragazza']\t['scienza', 'tecnologia', 'fisica']\t['filosofia', 'umanesimo', 'arte']\t\n",
      "Experiment 3\n",
      "['maschio', 'uomo', 'ragazzo']\t['femmina', 'donna', 'ragazza']\t['biologia', 'fisica', 'chimica']\t['poesia', 'arte', 'danza']\t\n"
     ]
    },
    {
     "data": {
      "image/png": "[encoded data removed]",
      "text/plain": [
       "<Figure size 864x288 with 1 Axes>"
      ]
     },
     "metadata": {
      "needs_background": "light"
     },
     "output_type": "display_data"
    },
    {
     "name": "stdout",
     "output_type": "stream",
     "text": [
      "Experiment 4\n",
      "['maschio', 'uomo', 'ragazzo']\t['femmina', 'donna', 'ragazza']\t['biologia', 'fisica', 'chimica']\t['poesia', 'arte', 'shakespeare']\t\n"
     ]
    },
    {
     "data": {
      "image/png": "[encoded data removed]",
      "text/plain": [
       "<Figure size 864x288 with 1 Axes>"
      ]
     },
     "metadata": {
      "needs_background": "light"
     },
     "output_type": "display_data"
    },
    {
     "name": "stdout",
     "output_type": "stream",
     "text": [
      "Experiment 5\n",
      "['maschio', 'uomo', 'ragazzo']\t['femmina', 'donna', 'ragazza']\t['biologia', 'fisica', 'chimica']\t['filosofia', 'umanesimo', 'arte']\t\n",
      "Experiment 6\n",
      "['fratello', 'padre', 'zio']\t['sorella', 'madre', 'zia']\t['scienza', 'tecnologia', 'fisica']\t['poesia', 'arte', 'danza']\t\n"
     ]
    },
    {
     "data": {
      "image/png": "[encoded data removed]",
      "text/plain": [
       "<Figure size 864x288 with 1 Axes>"
      ]
     },
     "metadata": {
      "needs_background": "light"
     },
     "output_type": "display_data"
    },
    {
     "name": "stdout",
     "output_type": "stream",
     "text": [
      "Experiment 7\n",
      "['fratello', 'padre', 'zio']\t['sorella', 'madre', 'zia']\t['scienza', 'tecnologia', 'fisica']\t['poesia', 'arte', 'shakespeare']\t\n"
     ]
    },
    {
     "data": {
      "image/png": "[encoded data removed]",
      "text/plain": [
       "<Figure size 864x288 with 1 Axes>"
      ]
     },
     "metadata": {
      "needs_background": "light"
     },
     "output_type": "display_data"
    },
    {
     "name": "stdout",
     "output_type": "stream",
     "text": [
      "Experiment 8\n",
      "['fratello', 'padre', 'zio']\t['sorella', 'madre', 'zia']\t['scienza', 'tecnologia', 'fisica']\t['filosofia', 'umanesimo', 'arte']\t\n",
      "Experiment 9\n",
      "['fratello', 'padre', 'zio']\t['sorella', 'madre', 'zia']\t['biologia', 'fisica', 'chimica']\t['poesia', 'arte', 'danza']\t\n"
     ]
    },
    {
     "data": {
      "image/png": "[encoded data removed]",
      "text/plain": [
       "<Figure size 864x288 with 1 Axes>"
      ]
     },
     "metadata": {
      "needs_background": "light"
     },
     "output_type": "display_data"
    },
    {
     "name": "stdout",
     "output_type": "stream",
     "text": [
      "Experiment 10\n",
      "['fratello', 'padre', 'zio']\t['sorella', 'madre', 'zia']\t['biologia', 'fisica', 'chimica']\t['poesia', 'arte', 'shakespeare']\t\n"
     ]
    },
    {
     "data": {
      "image/png": "[encoded data removed]",
      "text/plain": [
       "<Figure size 864x288 with 1 Axes>"
      ]
     },
     "metadata": {
      "needs_background": "light"
     },
     "output_type": "display_data"
    },
    {
     "name": "stdout",
     "output_type": "stream",
     "text": [
      "Experiment 11\n",
      "['fratello', 'padre', 'zio']\t['sorella', 'madre', 'zia']\t['biologia', 'fisica', 'chimica']\t['filosofia', 'umanesimo', 'arte']\t\n",
      "Experiment 12\n",
      "['uomo', 'padre', 'maschio']\t['donna', 'madre', 'femmina']\t['scienza', 'tecnologia', 'fisica']\t['poesia', 'arte', 'danza']\t\n"
     ]
    },
    {
     "data": {
      "image/png": "[encoded data removed]",
      "text/plain": [
       "<Figure size 864x288 with 1 Axes>"
      ]
     },
     "metadata": {
      "needs_background": "light"
     },
     "output_type": "display_data"
    },
    {
     "name": "stdout",
     "output_type": "stream",
     "text": [
      "Experiment 13\n",
      "['uomo', 'padre', 'maschio']\t['donna', 'madre', 'femmina']\t['scienza', 'tecnologia', 'fisica']\t['poesia', 'arte', 'shakespeare']\t\n"
     ]
    },
    {
     "data": {
      "image/png": "[encoded data removed]",
      "text/plain": [
       "<Figure size 864x288 with 1 Axes>"
      ]
     },
     "metadata": {
      "needs_background": "light"
     },
     "output_type": "display_data"
    },
    {
     "name": "stdout",
     "output_type": "stream",
     "text": [
      "Experiment 14\n",
      "['uomo', 'padre', 'maschio']\t['donna', 'madre', 'femmina']\t['scienza', 'tecnologia', 'fisica']\t['filosofia', 'umanesimo', 'arte']\t\n",
      "Experiment 15\n",
      "['uomo', 'padre', 'maschio']\t['donna', 'madre', 'femmina']\t['biologia', 'fisica', 'chimica']\t['poesia', 'arte', 'danza']\t\n"
     ]
    },
    {
     "data": {
      "image/png": "[encoded data removed]",
      "text/plain": [
       "<Figure size 864x288 with 1 Axes>"
      ]
     },
     "metadata": {
      "needs_background": "light"
     },
     "output_type": "display_data"
    },
    {
     "name": "stdout",
     "output_type": "stream",
     "text": [
      "Experiment 16\n",
      "['uomo', 'padre', 'maschio']\t['donna', 'madre', 'femmina']\t['biologia', 'fisica', 'chimica']\t['poesia', 'arte', 'shakespeare']\t\n"
     ]
    },
    {
     "data": {
      "image/png": "[encoded data removed]",
      "text/plain": [
       "<Figure size 864x288 with 1 Axes>"
      ]
     },
     "metadata": {
      "needs_background": "light"
     },
     "output_type": "display_data"
    },
    {
     "name": "stdout",
     "output_type": "stream",
     "text": [
      "Experiment 17\n",
      "['uomo', 'padre', 'maschio']\t['donna', 'madre', 'femmina']\t['biologia', 'fisica', 'chimica']\t['filosofia', 'umanesimo', 'arte']\t\n",
      "What happens if I run WEAT 8 / WEAT 8 implicit with the classes male/female, science and art from the other tests?\n",
      "How much impact does have the class definition on the results?\n"
     ]
    },
    {
     "data": {
      "text/html": [
       "<div>\n",
       "<style scoped>\n",
       "    .dataframe tbody tr th:only-of-type {\n",
       "        vertical-align: middle;\n",
       "    }\n",
       "\n",
       "    .dataframe tbody tr th {\n",
       "        vertical-align: top;\n",
       "    }\n",
       "\n",
       "    .dataframe thead th {\n",
       "        text-align: right;\n",
       "    }\n",
       "</style>\n",
       "<table border=\"1\" class=\"dataframe\">\n",
       "  <thead>\n",
       "    <tr style=\"text-align: right;\">\n",
       "      <th></th>\n",
       "      <th>count</th>\n",
       "      <th>mean</th>\n",
       "      <th>std</th>\n",
       "      <th>min</th>\n",
       "      <th>25%</th>\n",
       "      <th>50%</th>\n",
       "      <th>75%</th>\n",
       "      <th>max</th>\n",
       "    </tr>\n",
       "  </thead>\n",
       "  <tbody>\n",
       "    <tr>\n",
       "      <th>p</th>\n",
       "      <td>18.0</td>\n",
       "      <td>0.580786</td>\n",
       "      <td>0.153277</td>\n",
       "      <td>0.351107</td>\n",
       "      <td>0.489793</td>\n",
       "      <td>0.614347</td>\n",
       "      <td>0.659801</td>\n",
       "      <td>0.842584</td>\n",
       "    </tr>\n",
       "  </tbody>\n",
       "</table>\n",
       "</div>"
      ],
      "text/plain": [
       "   count      mean       std       min       25%       50%       75%       max\n",
       "p   18.0  0.580786  0.153277  0.351107  0.489793  0.614347  0.659801  0.842584"
      ]
     },
     "metadata": {},
     "output_type": "display_data"
    },
    {
     "data": {
      "text/html": [
       "<div>\n",
       "<style scoped>\n",
       "    .dataframe tbody tr th:only-of-type {\n",
       "        vertical-align: middle;\n",
       "    }\n",
       "\n",
       "    .dataframe tbody tr th {\n",
       "        vertical-align: top;\n",
       "    }\n",
       "\n",
       "    .dataframe thead th {\n",
       "        text-align: right;\n",
       "    }\n",
       "</style>\n",
       "<table border=\"1\" class=\"dataframe\">\n",
       "  <thead>\n",
       "    <tr style=\"text-align: right;\">\n",
       "      <th></th>\n",
       "      <th>count</th>\n",
       "      <th>mean</th>\n",
       "      <th>std</th>\n",
       "      <th>min</th>\n",
       "      <th>25%</th>\n",
       "      <th>50%</th>\n",
       "      <th>75%</th>\n",
       "      <th>max</th>\n",
       "    </tr>\n",
       "  </thead>\n",
       "  <tbody>\n",
       "    <tr>\n",
       "      <th>d</th>\n",
       "      <td>18.0</td>\n",
       "      <td>-0.135851</td>\n",
       "      <td>0.243046</td>\n",
       "      <td>-0.598398</td>\n",
       "      <td>-0.239306</td>\n",
       "      <td>-0.168757</td>\n",
       "      <td>0.014561</td>\n",
       "      <td>0.215793</td>\n",
       "    </tr>\n",
       "  </tbody>\n",
       "</table>\n",
       "</div>"
      ],
      "text/plain": [
       "   count      mean       std       min       25%       50%       75%       max\n",
       "d   18.0 -0.135851  0.243046 -0.598398 -0.239306 -0.168757  0.014561  0.215793"
      ]
     },
     "metadata": {},
     "output_type": "display_data"
    },
    {
     "data": {
      "image/png": "[encoded data removed]",
      "text/plain": [
       "<Figure size 864x288 with 1 Axes>"
      ]
     },
     "metadata": {
      "needs_background": "light"
     },
     "output_type": "display_data"
    }
   ],
   "source": [
    "# lavoriamo con male, female, math e art\n",
    "sciences = []\n",
    "arts = []\n",
    "\n",
    "experiments = [weat7, weat8, weat8_implicit]\n",
    "\n",
    "for exp in experiments:\n",
    "    if 'science' in exp:\n",
    "        sciences.append(exp['science'])\n",
    "    if 'art' in exp:\n",
    "        arts.append(exp['art'])\n",
    "        \n",
    "results = []\n",
    "for i, (exp, science, art) in enumerate(product(experiments, sciences, arts)):\n",
    "    print(f'Experiment {i}')\n",
    "    print(f'{exp[\"male\"][\"words\"][0:3]}\\t{exp[\"female\"][\"words\"][0:3]}\\t{science[\"words\"][0:3]}\\t{art[\"words\"][0:3]}\\t')\n",
    "    r = make_experiment(exp['male'], exp['female'], science, art)\n",
    "    color = 'blue'\n",
    "    try:\n",
    "        row = r.loc['mean', ['p', 'd']]\n",
    "        color = 'red'\n",
    "    except:\n",
    "        row = r.loc[0, ['p', 'd']]\n",
    "    results.append({\n",
    "        'p': row['p'],\n",
    "        'd': row['d'],\n",
    "        'experiment': i,\n",
    "        'color': color\n",
    "    })\n",
    "\n",
    "df_r = pd.DataFrame(results)\n",
    "\n",
    "print(f'What happens if I run WEAT 8 / WEAT 8 implicit with the classes male/female, science and art from the other tests?')\n",
    "print(f'How much impact does have the class definition on the results?')\n",
    "display(pd.DataFrame(df_r['p'].describe()).T)\n",
    "display(pd.DataFrame(df_r['d'].describe()).T)\n",
    "\n",
    "df_r.plot(kind='scatter', x='p', y='d', c='color')\n",
    "plt.legend(handles=[red_patch, blue_patch])\n",
    "plt.savefig('weat8_allclasses.eps', format='eps')\n",
    "\n",
    "for i, r in enumerate(results):\n",
    "    plt.text(r['p'], r['d'], r['experiment'])\n",
    "\n",
    "plt.show()"
   ]
  },
  {
   "cell_type": "markdown",
   "id": "b8dcce0f",
   "metadata": {},
   "source": [
    "# Generic words genre test"
   ]
  },
  {
   "cell_type": "code",
   "execution_count": 14,
   "id": "394d21a6",
   "metadata": {},
   "outputs": [
    {
     "name": "stdout",
     "output_type": "stream",
     "text": [
      "-----\n",
      "Male and female classes from experiment 0\n"
     ]
    },
    {
     "data": {
      "text/html": [
       "<div>\n",
       "<style scoped>\n",
       "    .dataframe tbody tr th:only-of-type {\n",
       "        vertical-align: middle;\n",
       "    }\n",
       "\n",
       "    .dataframe tbody tr th {\n",
       "        vertical-align: top;\n",
       "    }\n",
       "\n",
       "    .dataframe thead th {\n",
       "        text-align: right;\n",
       "    }\n",
       "</style>\n",
       "<table border=\"1\" class=\"dataframe\">\n",
       "  <thead>\n",
       "    <tr style=\"text-align: right;\">\n",
       "      <th></th>\n",
       "      <th>Target words</th>\n",
       "      <th>Attrib. words</th>\n",
       "      <th>s</th>\n",
       "      <th>d</th>\n",
       "      <th>p</th>\n",
       "      <th>Nt</th>\n",
       "      <th>Na</th>\n",
       "    </tr>\n",
       "  </thead>\n",
       "  <tbody>\n",
       "    <tr>\n",
       "      <th>0</th>\n",
       "      <td>male_genre vs. female_genre</td>\n",
       "      <td>male vs. female</td>\n",
       "      <td>0.778569</td>\n",
       "      <td>1.893757</td>\n",
       "      <td>0.0</td>\n",
       "      <td>5x2</td>\n",
       "      <td>8x2</td>\n",
       "    </tr>\n",
       "  </tbody>\n",
       "</table>\n",
       "</div>"
      ],
      "text/plain": [
       "                  Target words    Attrib. words         s         d    p   Nt  \\\n",
       "0  male_genre vs. female_genre  male vs. female  0.778569  1.893757  0.0  5x2   \n",
       "\n",
       "    Na  \n",
       "0  8x2  "
      ]
     },
     "metadata": {},
     "output_type": "display_data"
    },
    {
     "name": "stdout",
     "output_type": "stream",
     "text": [
      "The result is significant. alpha=0.05 (0.000)\n",
      "The suggested association is: male_genre-male and female_genre-female(1.894)\n",
      "\n",
      "male_genre words are 66.439% more frequent than female_genre words\n",
      "female words are 404.502% more frequent than male words\n"
     ]
    },
    {
     "data": {
      "text/html": [
       "<div>\n",
       "<style scoped>\n",
       "    .dataframe tbody tr th:only-of-type {\n",
       "        vertical-align: middle;\n",
       "    }\n",
       "\n",
       "    .dataframe tbody tr th {\n",
       "        vertical-align: top;\n",
       "    }\n",
       "\n",
       "    .dataframe thead th {\n",
       "        text-align: right;\n",
       "    }\n",
       "</style>\n",
       "<table border=\"1\" class=\"dataframe\">\n",
       "  <thead>\n",
       "    <tr style=\"text-align: right;\">\n",
       "      <th></th>\n",
       "      <th>class</th>\n",
       "      <th>count</th>\n",
       "    </tr>\n",
       "  </thead>\n",
       "  <tbody>\n",
       "    <tr>\n",
       "      <th>0</th>\n",
       "      <td>male</td>\n",
       "      <td>585374</td>\n",
       "    </tr>\n",
       "    <tr>\n",
       "      <th>1</th>\n",
       "      <td>female</td>\n",
       "      <td>2953226</td>\n",
       "    </tr>\n",
       "    <tr>\n",
       "      <th>2</th>\n",
       "      <td>male_genre</td>\n",
       "      <td>5361</td>\n",
       "    </tr>\n",
       "    <tr>\n",
       "      <th>3</th>\n",
       "      <td>female_genre</td>\n",
       "      <td>3221</td>\n",
       "    </tr>\n",
       "  </tbody>\n",
       "</table>\n",
       "</div>"
      ],
      "text/plain": [
       "          class    count\n",
       "0          male   585374\n",
       "1        female  2953226\n",
       "2    male_genre     5361\n",
       "3  female_genre     3221"
      ]
     },
     "metadata": {},
     "output_type": "display_data"
    },
    {
     "name": "stdout",
     "output_type": "stream",
     "text": [
      "-----\n",
      "Male and female classes from experiment 1\n"
     ]
    },
    {
     "data": {
      "text/html": [
       "<div>\n",
       "<style scoped>\n",
       "    .dataframe tbody tr th:only-of-type {\n",
       "        vertical-align: middle;\n",
       "    }\n",
       "\n",
       "    .dataframe tbody tr th {\n",
       "        vertical-align: top;\n",
       "    }\n",
       "\n",
       "    .dataframe thead th {\n",
       "        text-align: right;\n",
       "    }\n",
       "</style>\n",
       "<table border=\"1\" class=\"dataframe\">\n",
       "  <thead>\n",
       "    <tr style=\"text-align: right;\">\n",
       "      <th></th>\n",
       "      <th>Target words</th>\n",
       "      <th>Attrib. words</th>\n",
       "      <th>s</th>\n",
       "      <th>d</th>\n",
       "      <th>p</th>\n",
       "      <th>Nt</th>\n",
       "      <th>Na</th>\n",
       "    </tr>\n",
       "  </thead>\n",
       "  <tbody>\n",
       "    <tr>\n",
       "      <th>0</th>\n",
       "      <td>male_genre vs. female_genre</td>\n",
       "      <td>male vs. female</td>\n",
       "      <td>0.663321</td>\n",
       "      <td>1.872055</td>\n",
       "      <td>0.0</td>\n",
       "      <td>5x2</td>\n",
       "      <td>8x2</td>\n",
       "    </tr>\n",
       "  </tbody>\n",
       "</table>\n",
       "</div>"
      ],
      "text/plain": [
       "                  Target words    Attrib. words         s         d    p   Nt  \\\n",
       "0  male_genre vs. female_genre  male vs. female  0.663321  1.872055  0.0  5x2   \n",
       "\n",
       "    Na  \n",
       "0  8x2  "
      ]
     },
     "metadata": {},
     "output_type": "display_data"
    },
    {
     "name": "stdout",
     "output_type": "stream",
     "text": [
      "The result is significant. alpha=0.05 (0.000)\n",
      "The suggested association is: male_genre-male and female_genre-female(1.872)\n",
      "\n",
      "male_genre words are 66.439% more frequent than female_genre words\n",
      "female words are 420.453% more frequent than male words\n"
     ]
    },
    {
     "data": {
      "text/html": [
       "<div>\n",
       "<style scoped>\n",
       "    .dataframe tbody tr th:only-of-type {\n",
       "        vertical-align: middle;\n",
       "    }\n",
       "\n",
       "    .dataframe tbody tr th {\n",
       "        vertical-align: top;\n",
       "    }\n",
       "\n",
       "    .dataframe thead th {\n",
       "        text-align: right;\n",
       "    }\n",
       "</style>\n",
       "<table border=\"1\" class=\"dataframe\">\n",
       "  <thead>\n",
       "    <tr style=\"text-align: right;\">\n",
       "      <th></th>\n",
       "      <th>class</th>\n",
       "      <th>count</th>\n",
       "    </tr>\n",
       "  </thead>\n",
       "  <tbody>\n",
       "    <tr>\n",
       "      <th>0</th>\n",
       "      <td>male</td>\n",
       "      <td>566687</td>\n",
       "    </tr>\n",
       "    <tr>\n",
       "      <th>1</th>\n",
       "      <td>female</td>\n",
       "      <td>2949340</td>\n",
       "    </tr>\n",
       "    <tr>\n",
       "      <th>2</th>\n",
       "      <td>male_genre</td>\n",
       "      <td>5361</td>\n",
       "    </tr>\n",
       "    <tr>\n",
       "      <th>3</th>\n",
       "      <td>female_genre</td>\n",
       "      <td>3221</td>\n",
       "    </tr>\n",
       "  </tbody>\n",
       "</table>\n",
       "</div>"
      ],
      "text/plain": [
       "          class    count\n",
       "0          male   566687\n",
       "1        female  2949340\n",
       "2    male_genre     5361\n",
       "3  female_genre     3221"
      ]
     },
     "metadata": {},
     "output_type": "display_data"
    },
    {
     "name": "stdout",
     "output_type": "stream",
     "text": [
      "-----\n",
      "Male and female classes from experiment 2\n"
     ]
    },
    {
     "data": {
      "text/html": [
       "<div>\n",
       "<style scoped>\n",
       "    .dataframe tbody tr th:only-of-type {\n",
       "        vertical-align: middle;\n",
       "    }\n",
       "\n",
       "    .dataframe tbody tr th {\n",
       "        vertical-align: top;\n",
       "    }\n",
       "\n",
       "    .dataframe thead th {\n",
       "        text-align: right;\n",
       "    }\n",
       "</style>\n",
       "<table border=\"1\" class=\"dataframe\">\n",
       "  <thead>\n",
       "    <tr style=\"text-align: right;\">\n",
       "      <th></th>\n",
       "      <th>Target words</th>\n",
       "      <th>Attrib. words</th>\n",
       "      <th>s</th>\n",
       "      <th>d</th>\n",
       "      <th>p</th>\n",
       "      <th>Nt</th>\n",
       "      <th>Na</th>\n",
       "    </tr>\n",
       "  </thead>\n",
       "  <tbody>\n",
       "    <tr>\n",
       "      <th>0</th>\n",
       "      <td>male_genre vs. female_genre</td>\n",
       "      <td>male vs. female</td>\n",
       "      <td>1.057489</td>\n",
       "      <td>1.936245</td>\n",
       "      <td>0.0</td>\n",
       "      <td>5x2</td>\n",
       "      <td>6x2</td>\n",
       "    </tr>\n",
       "  </tbody>\n",
       "</table>\n",
       "</div>"
      ],
      "text/plain": [
       "                  Target words    Attrib. words         s         d    p   Nt  \\\n",
       "0  male_genre vs. female_genre  male vs. female  1.057489  1.936245  0.0  5x2   \n",
       "\n",
       "    Na  \n",
       "0  6x2  "
      ]
     },
     "metadata": {},
     "output_type": "display_data"
    },
    {
     "name": "stdout",
     "output_type": "stream",
     "text": [
      "The result is significant. alpha=0.05 (0.000)\n",
      "The suggested association is: male_genre-male and female_genre-female(1.936)\n",
      "\n",
      "male_genre words are 66.439% more frequent than female_genre words\n",
      "male words are 72.139% more frequent than female words\n"
     ]
    },
    {
     "data": {
      "text/html": [
       "<div>\n",
       "<style scoped>\n",
       "    .dataframe tbody tr th:only-of-type {\n",
       "        vertical-align: middle;\n",
       "    }\n",
       "\n",
       "    .dataframe tbody tr th {\n",
       "        vertical-align: top;\n",
       "    }\n",
       "\n",
       "    .dataframe thead th {\n",
       "        text-align: right;\n",
       "    }\n",
       "</style>\n",
       "<table border=\"1\" class=\"dataframe\">\n",
       "  <thead>\n",
       "    <tr style=\"text-align: right;\">\n",
       "      <th></th>\n",
       "      <th>class</th>\n",
       "      <th>count</th>\n",
       "    </tr>\n",
       "  </thead>\n",
       "  <tbody>\n",
       "    <tr>\n",
       "      <th>0</th>\n",
       "      <td>male</td>\n",
       "      <td>30040</td>\n",
       "    </tr>\n",
       "    <tr>\n",
       "      <th>1</th>\n",
       "      <td>female</td>\n",
       "      <td>17451</td>\n",
       "    </tr>\n",
       "    <tr>\n",
       "      <th>2</th>\n",
       "      <td>male_genre</td>\n",
       "      <td>5361</td>\n",
       "    </tr>\n",
       "    <tr>\n",
       "      <th>3</th>\n",
       "      <td>female_genre</td>\n",
       "      <td>3221</td>\n",
       "    </tr>\n",
       "  </tbody>\n",
       "</table>\n",
       "</div>"
      ],
      "text/plain": [
       "          class  count\n",
       "0          male  30040\n",
       "1        female  17451\n",
       "2    male_genre   5361\n",
       "3  female_genre   3221"
      ]
     },
     "metadata": {},
     "output_type": "display_data"
    }
   ],
   "source": [
    "genre_test = {\n",
    "    'male_genre': {\n",
    "        'name': 'male_genre',\n",
    "        'words': ['gruzzolo', 'siero', 'teppismo', 'aggiornamento', 'robot']\n",
    "    },\n",
    "    'female_genre': {\n",
    "        'name': 'female_genre',\n",
    "        'words': ['ossessione', 'salma', 'marcatura', 'libreria', 'rivista']\n",
    "    }\n",
    "}\n",
    "\n",
    "for i, exp in enumerate(experiments):\n",
    "    print(f'-----\\nMale and female classes from experiment {i}')\n",
    "    genre_test_result = make_experiment(exp['male'], exp['female'], genre_test['male_genre'], genre_test['female_genre'])\n",
    "    display(genre_test_result)\n",
    "\n",
    "    evaluate_experiment(genre_test_result, exp['male'], exp['female'], genre_test['male_genre'], genre_test['female_genre'])\n",
    "\n",
    "    display(experiment_word_frequency(exp['male'], exp['female'], genre_test['male_genre'], genre_test['female_genre']))"
   ]
  },
  {
   "cell_type": "code",
   "execution_count": 15,
   "id": "830b69f4",
   "metadata": {},
   "outputs": [
    {
     "name": "stdout",
     "output_type": "stream",
     "text": [
      "-----\n",
      "Male and female classes from experiment 0\n"
     ]
    },
    {
     "data": {
      "text/html": [
       "<div>\n",
       "<style scoped>\n",
       "    .dataframe tbody tr th:only-of-type {\n",
       "        vertical-align: middle;\n",
       "    }\n",
       "\n",
       "    .dataframe tbody tr th {\n",
       "        vertical-align: top;\n",
       "    }\n",
       "\n",
       "    .dataframe thead th {\n",
       "        text-align: right;\n",
       "    }\n",
       "</style>\n",
       "<table border=\"1\" class=\"dataframe\">\n",
       "  <thead>\n",
       "    <tr style=\"text-align: right;\">\n",
       "      <th></th>\n",
       "      <th>Target words</th>\n",
       "      <th>Attrib. words</th>\n",
       "      <th>s</th>\n",
       "      <th>d</th>\n",
       "      <th>p</th>\n",
       "      <th>Nt</th>\n",
       "      <th>Na</th>\n",
       "    </tr>\n",
       "  </thead>\n",
       "  <tbody>\n",
       "    <tr>\n",
       "      <th>0</th>\n",
       "      <td>male_genre vs. female_genre</td>\n",
       "      <td>male vs. female</td>\n",
       "      <td>0.944452</td>\n",
       "      <td>1.771019</td>\n",
       "      <td>0.0</td>\n",
       "      <td>6x2</td>\n",
       "      <td>8x2</td>\n",
       "    </tr>\n",
       "  </tbody>\n",
       "</table>\n",
       "</div>"
      ],
      "text/plain": [
       "                  Target words    Attrib. words         s         d    p   Nt  \\\n",
       "0  male_genre vs. female_genre  male vs. female  0.944452  1.771019  0.0  6x2   \n",
       "\n",
       "    Na  \n",
       "0  8x2  "
      ]
     },
     "metadata": {},
     "output_type": "display_data"
    },
    {
     "name": "stdout",
     "output_type": "stream",
     "text": [
      "The result is significant. alpha=0.05 (0.000)\n",
      "The suggested association is: male_genre-male and female_genre-female(1.771)\n",
      "\n",
      "male_genre words are 5.782% more frequent than female_genre words\n",
      "female words are 404.502% more frequent than male words\n"
     ]
    },
    {
     "data": {
      "text/html": [
       "<div>\n",
       "<style scoped>\n",
       "    .dataframe tbody tr th:only-of-type {\n",
       "        vertical-align: middle;\n",
       "    }\n",
       "\n",
       "    .dataframe tbody tr th {\n",
       "        vertical-align: top;\n",
       "    }\n",
       "\n",
       "    .dataframe thead th {\n",
       "        text-align: right;\n",
       "    }\n",
       "</style>\n",
       "<table border=\"1\" class=\"dataframe\">\n",
       "  <thead>\n",
       "    <tr style=\"text-align: right;\">\n",
       "      <th></th>\n",
       "      <th>class</th>\n",
       "      <th>count</th>\n",
       "    </tr>\n",
       "  </thead>\n",
       "  <tbody>\n",
       "    <tr>\n",
       "      <th>0</th>\n",
       "      <td>male</td>\n",
       "      <td>585374</td>\n",
       "    </tr>\n",
       "    <tr>\n",
       "      <th>1</th>\n",
       "      <td>female</td>\n",
       "      <td>2953226</td>\n",
       "    </tr>\n",
       "    <tr>\n",
       "      <th>2</th>\n",
       "      <td>male_genre</td>\n",
       "      <td>1808449</td>\n",
       "    </tr>\n",
       "    <tr>\n",
       "      <th>3</th>\n",
       "      <td>female_genre</td>\n",
       "      <td>1709607</td>\n",
       "    </tr>\n",
       "  </tbody>\n",
       "</table>\n",
       "</div>"
      ],
      "text/plain": [
       "          class    count\n",
       "0          male   585374\n",
       "1        female  2953226\n",
       "2    male_genre  1808449\n",
       "3  female_genre  1709607"
      ]
     },
     "metadata": {},
     "output_type": "display_data"
    },
    {
     "name": "stdout",
     "output_type": "stream",
     "text": [
      "-----\n",
      "Male and female classes from experiment 1\n"
     ]
    },
    {
     "data": {
      "text/html": [
       "<div>\n",
       "<style scoped>\n",
       "    .dataframe tbody tr th:only-of-type {\n",
       "        vertical-align: middle;\n",
       "    }\n",
       "\n",
       "    .dataframe tbody tr th {\n",
       "        vertical-align: top;\n",
       "    }\n",
       "\n",
       "    .dataframe thead th {\n",
       "        text-align: right;\n",
       "    }\n",
       "</style>\n",
       "<table border=\"1\" class=\"dataframe\">\n",
       "  <thead>\n",
       "    <tr style=\"text-align: right;\">\n",
       "      <th></th>\n",
       "      <th>Target words</th>\n",
       "      <th>Attrib. words</th>\n",
       "      <th>s</th>\n",
       "      <th>d</th>\n",
       "      <th>p</th>\n",
       "      <th>Nt</th>\n",
       "      <th>Na</th>\n",
       "    </tr>\n",
       "  </thead>\n",
       "  <tbody>\n",
       "    <tr>\n",
       "      <th>0</th>\n",
       "      <td>male_genre vs. female_genre</td>\n",
       "      <td>male vs. female</td>\n",
       "      <td>0.883478</td>\n",
       "      <td>1.775384</td>\n",
       "      <td>0.001082</td>\n",
       "      <td>6x2</td>\n",
       "      <td>8x2</td>\n",
       "    </tr>\n",
       "  </tbody>\n",
       "</table>\n",
       "</div>"
      ],
      "text/plain": [
       "                  Target words    Attrib. words         s         d         p  \\\n",
       "0  male_genre vs. female_genre  male vs. female  0.883478  1.775384  0.001082   \n",
       "\n",
       "    Nt   Na  \n",
       "0  6x2  8x2  "
      ]
     },
     "metadata": {},
     "output_type": "display_data"
    },
    {
     "name": "stdout",
     "output_type": "stream",
     "text": [
      "The result is significant. alpha=0.05 (0.001)\n",
      "The suggested association is: male_genre-male and female_genre-female(1.775)\n",
      "\n",
      "male_genre words are 5.782% more frequent than female_genre words\n",
      "female words are 420.453% more frequent than male words\n"
     ]
    },
    {
     "data": {
      "text/html": [
       "<div>\n",
       "<style scoped>\n",
       "    .dataframe tbody tr th:only-of-type {\n",
       "        vertical-align: middle;\n",
       "    }\n",
       "\n",
       "    .dataframe tbody tr th {\n",
       "        vertical-align: top;\n",
       "    }\n",
       "\n",
       "    .dataframe thead th {\n",
       "        text-align: right;\n",
       "    }\n",
       "</style>\n",
       "<table border=\"1\" class=\"dataframe\">\n",
       "  <thead>\n",
       "    <tr style=\"text-align: right;\">\n",
       "      <th></th>\n",
       "      <th>class</th>\n",
       "      <th>count</th>\n",
       "    </tr>\n",
       "  </thead>\n",
       "  <tbody>\n",
       "    <tr>\n",
       "      <th>0</th>\n",
       "      <td>male</td>\n",
       "      <td>566687</td>\n",
       "    </tr>\n",
       "    <tr>\n",
       "      <th>1</th>\n",
       "      <td>female</td>\n",
       "      <td>2949340</td>\n",
       "    </tr>\n",
       "    <tr>\n",
       "      <th>2</th>\n",
       "      <td>male_genre</td>\n",
       "      <td>1808449</td>\n",
       "    </tr>\n",
       "    <tr>\n",
       "      <th>3</th>\n",
       "      <td>female_genre</td>\n",
       "      <td>1709607</td>\n",
       "    </tr>\n",
       "  </tbody>\n",
       "</table>\n",
       "</div>"
      ],
      "text/plain": [
       "          class    count\n",
       "0          male   566687\n",
       "1        female  2949340\n",
       "2    male_genre  1808449\n",
       "3  female_genre  1709607"
      ]
     },
     "metadata": {},
     "output_type": "display_data"
    },
    {
     "name": "stdout",
     "output_type": "stream",
     "text": [
      "-----\n",
      "Male and female classes from experiment 2\n"
     ]
    },
    {
     "data": {
      "text/html": [
       "<div>\n",
       "<style scoped>\n",
       "    .dataframe tbody tr th:only-of-type {\n",
       "        vertical-align: middle;\n",
       "    }\n",
       "\n",
       "    .dataframe tbody tr th {\n",
       "        vertical-align: top;\n",
       "    }\n",
       "\n",
       "    .dataframe thead th {\n",
       "        text-align: right;\n",
       "    }\n",
       "</style>\n",
       "<table border=\"1\" class=\"dataframe\">\n",
       "  <thead>\n",
       "    <tr style=\"text-align: right;\">\n",
       "      <th></th>\n",
       "      <th>Target words</th>\n",
       "      <th>Attrib. words</th>\n",
       "      <th>s</th>\n",
       "      <th>d</th>\n",
       "      <th>p</th>\n",
       "      <th>Nt</th>\n",
       "      <th>Na</th>\n",
       "    </tr>\n",
       "  </thead>\n",
       "  <tbody>\n",
       "    <tr>\n",
       "      <th>0</th>\n",
       "      <td>male_genre vs. female_genre</td>\n",
       "      <td>male vs. female</td>\n",
       "      <td>1.452353</td>\n",
       "      <td>1.791212</td>\n",
       "      <td>0.0</td>\n",
       "      <td>6x2</td>\n",
       "      <td>6x2</td>\n",
       "    </tr>\n",
       "  </tbody>\n",
       "</table>\n",
       "</div>"
      ],
      "text/plain": [
       "                  Target words    Attrib. words         s         d    p   Nt  \\\n",
       "0  male_genre vs. female_genre  male vs. female  1.452353  1.791212  0.0  6x2   \n",
       "\n",
       "    Na  \n",
       "0  6x2  "
      ]
     },
     "metadata": {},
     "output_type": "display_data"
    },
    {
     "name": "stdout",
     "output_type": "stream",
     "text": [
      "The result is significant. alpha=0.05 (0.000)\n",
      "The suggested association is: male_genre-male and female_genre-female(1.791)\n",
      "\n",
      "male_genre words are 5.782% more frequent than female_genre words\n",
      "male words are 72.139% more frequent than female words\n"
     ]
    },
    {
     "data": {
      "text/html": [
       "<div>\n",
       "<style scoped>\n",
       "    .dataframe tbody tr th:only-of-type {\n",
       "        vertical-align: middle;\n",
       "    }\n",
       "\n",
       "    .dataframe tbody tr th {\n",
       "        vertical-align: top;\n",
       "    }\n",
       "\n",
       "    .dataframe thead th {\n",
       "        text-align: right;\n",
       "    }\n",
       "</style>\n",
       "<table border=\"1\" class=\"dataframe\">\n",
       "  <thead>\n",
       "    <tr style=\"text-align: right;\">\n",
       "      <th></th>\n",
       "      <th>class</th>\n",
       "      <th>count</th>\n",
       "    </tr>\n",
       "  </thead>\n",
       "  <tbody>\n",
       "    <tr>\n",
       "      <th>0</th>\n",
       "      <td>male</td>\n",
       "      <td>30040</td>\n",
       "    </tr>\n",
       "    <tr>\n",
       "      <th>1</th>\n",
       "      <td>female</td>\n",
       "      <td>17451</td>\n",
       "    </tr>\n",
       "    <tr>\n",
       "      <th>2</th>\n",
       "      <td>male_genre</td>\n",
       "      <td>1808449</td>\n",
       "    </tr>\n",
       "    <tr>\n",
       "      <th>3</th>\n",
       "      <td>female_genre</td>\n",
       "      <td>1709607</td>\n",
       "    </tr>\n",
       "  </tbody>\n",
       "</table>\n",
       "</div>"
      ],
      "text/plain": [
       "          class    count\n",
       "0          male    30040\n",
       "1        female    17451\n",
       "2    male_genre  1808449\n",
       "3  female_genre  1709607"
      ]
     },
     "metadata": {},
     "output_type": "display_data"
    }
   ],
   "source": [
    "genre_test = {\n",
    "    'male_genre': {\n",
    "        'name': 'male_genre',\n",
    "        'words': ['governo', 'stato', 'articolo', 'provvedimento', 'emendamento', 'consiglio']\n",
    "    },\n",
    "    'female_genre': {\n",
    "        'name': 'female_genre',\n",
    "        'words': ['parte', 'legge', 'commissione', 'italia', 'camera', 'materia']\n",
    "    }\n",
    "}\n",
    "\n",
    "for i, exp in enumerate(experiments):\n",
    "    print(f'-----\\nMale and female classes from experiment {i}')\n",
    "    genre_test_result = make_experiment(exp['male'], exp['female'], genre_test['male_genre'], genre_test['female_genre'])\n",
    "    display(genre_test_result)\n",
    "\n",
    "    evaluate_experiment(genre_test_result, exp['male'], exp['female'], genre_test['male_genre'], genre_test['female_genre'])\n",
    "\n",
    "    display(experiment_word_frequency(exp['male'], exp['female'], genre_test['male_genre'], genre_test['female_genre']))"
   ]
  },
  {
   "cell_type": "code",
   "execution_count": 16,
   "id": "7f3fd173",
   "metadata": {},
   "outputs": [
    {
     "name": "stdout",
     "output_type": "stream",
     "text": [
      "filosofia, arte, letteratura, italiano, musica, storia, "
     ]
    }
   ],
   "source": [
    "for w in weat8_implicit['art_no_male']['words']:\n",
    "    print(w, end=', ')"
   ]
  },
  {
   "cell_type": "code",
   "execution_count": null,
   "id": "9fb94660",
   "metadata": {},
   "outputs": [],
   "source": []
  }
 ],
 "metadata": {
  "kernelspec": {
   "display_name": "Python 3",
   "language": "python",
   "name": "python3"
  },
  "language_info": {
   "codemirror_mode": {
    "name": "ipython",
    "version": 3
   },
   "file_extension": ".py",
   "mimetype": "text/x-python",
   "name": "python",
   "nbconvert_exporter": "python",
   "pygments_lexer": "ipython3",
   "version": "3.7.10"
  }
 },
 "nbformat": 4,
 "nbformat_minor": 5
}
